{
 "cells": [
  {
   "cell_type": "markdown",
   "metadata": {},
   "source": [
    "## Get the GPS location of the cities hosting the tournaments"
   ]
  },
  {
   "cell_type": "code",
   "execution_count": 1,
   "metadata": {},
   "outputs": [],
   "source": [
    "import pandas as pd\n",
    "import numpy as np\n",
    "import matplotlib.pyplot as plt\n",
    "import json"
   ]
  },
  {
   "cell_type": "code",
   "execution_count": 2,
   "metadata": {},
   "outputs": [],
   "source": [
    "df = pd.read_csv(\"data/tennis_data_cleaned.csv\")"
   ]
  },
  {
   "cell_type": "code",
   "execution_count": 3,
   "metadata": {},
   "outputs": [
    {
     "name": "stdout",
     "output_type": "stream",
     "text": [
      "[\"'s-Hertogenbosch\", 'Acapulco', 'Adelaide', 'Amersfoort', 'Antalya', 'Antwerp', 'Atlanta', 'Auckland', 'Bangkok', 'Barcelona', 'Basel', 'Bastad', 'Beijing', 'Belgrade', 'Bogota', 'Brisbane', 'Bucharest', 'Budapest', 'Buenos Aires', 'Cagliari', 'Casablanca', 'Chengdu', 'Chennai', 'Cincinnati', 'Cologne', 'Cordoba', 'Costa Do Sauipe', 'Dallas', 'Delray Beach', 'Doha', 'Dubai', 'Dusseldorf', 'Eastbourne', 'Estoril', 'Geneva', 'Gstaad', 'Halle', 'Hamburg', 'Houston', 'Indian Wells', 'Indianapolis', 'Istanbul', 'Johannesburg', 'Kitzbuhel', 'Kuala Lumpur', 'Las Vegas', 'London', 'Los Angeles', 'Los Cabos', 'Lyon', 'Madrid', 'Mallorca', 'Marbella', 'Marrakech', 'Marseille', 'Melbourne', 'Memphis', 'Metz', 'Miami', 'Monte Carlo', 'Montpellier', 'Montreal', 'Moscow', 'Munich', 'New Haven', 'New York', 'Newport', 'Nice', 'Nottingham', 'Nur-Sultan', 'Oeiras', 'Paris', 'Parma', 'Portschach', 'Pune', 'Queens Club', 'Quito', 'Rio de Janeiro', 'Rome', 'Rotterdam', 'San Diego', 'San Jose', 'Santiago', 'Sao Paulo', 'Sardinia', 'Shanghai', 'Shenzhen', 'Singapore', 'Sofia', 'St. Petersburg', 'Stockholm', 'Stuttgart', 'Sydney', 'Tokyo', 'Toronto', 'Turin', 'Umag', 'Valencia', 'Vienna', 'Vina del Mar', 'Warsaw', 'Washington', 'Winston-Salem', 'Zagreb', 'Zhuhai']\n"
     ]
    }
   ],
   "source": [
    "cities = list(df.Location.unique())\n",
    "cities.sort()\n",
    "print(cities)"
   ]
  },
  {
   "cell_type": "markdown",
   "metadata": {},
   "source": [
    "## Get city location"
   ]
  },
  {
   "cell_type": "code",
   "execution_count": 4,
   "metadata": {},
   "outputs": [],
   "source": [
    "import requests\n",
    "import xml.etree.ElementTree as ET\n",
    "cities_to_gps = {}"
   ]
  },
  {
   "cell_type": "code",
   "execution_count": 6,
   "metadata": {},
   "outputs": [],
   "source": [
    "def get_results(ans):\n",
    "    tree = ET.fromstring(ans.content)\n",
    "\n",
    "    for child in list(tree)[1]:\n",
    "        if child.tag == \"toponymName\":\n",
    "            typoName = child.text\n",
    "        if child.tag == \"name\":\n",
    "            name = child.text\n",
    "        if child.tag == \"lat\":\n",
    "            lat = float(child.text)\n",
    "        if child.tag == \"lng\":\n",
    "            long = float(child.text)\n",
    "\n",
    "    return [lat, long], name, typoName"
   ]
  },
  {
   "cell_type": "code",
   "execution_count": 7,
   "metadata": {},
   "outputs": [
    {
     "name": "stdout",
     "output_type": "stream",
     "text": [
      "'s-Hertogenbosch -- 's-Hertogenbosch - 's-Hertogenbosch\n",
      "Acapulco -- Acapulco de Juárez - Acapulco de Juárez\n",
      "Adelaide -- Adelaide - Adelaide\n",
      "Amersfoort -- Amersfoort - Amersfoort\n",
      "Antalya -- Antalya - Antalya\n",
      "Antwerp -- Antwerp - Antwerpen\n",
      "Atlanta -- Atlanta - Atlanta\n",
      "Auckland -- Auckland - Auckland\n",
      "Bangkok -- Bangkok - Bangkok\n",
      "Barcelona -- Barcelona - Barcelona\n",
      "Basel -- Basel - Basel\n",
      "Bastad -- Båstads Kommun - Båstads Kommun\n",
      "Beijing -- Beijing - Beijing\n",
      "Belgrade -- Belgrade - Belgrade\n",
      "Bogota -- Bogotá - Bogotá\n",
      "Brisbane -- Brisbane - Brisbane\n",
      "Bucharest -- Bucharest - Bucharest\n",
      "Budapest -- Budapest - Budapest\n",
      "Buenos Aires -- Buenos Aires - Buenos Aires\n",
      "Cagliari -- Cagliari - Cagliari\n",
      "Casablanca -- Casablanca - Casablanca\n",
      "Chengdu -- Chengdu - Chengdu\n",
      "Chennai -- Chennai - Chennai\n",
      "Cincinnati -- Cincinnati - Cincinnati\n",
      "Cologne -- Cologne - Köln\n",
      "Cordoba -- Córdoba - Córdoba\n",
      "Costa Do Sauipe -- Costa Do Sauipe - Costa Do Sauipe\n",
      "Dallas -- Dallas - Dallas\n",
      "Delray Beach -- Delray Beach - Delray Beach\n",
      "Doha -- Doha - Doha\n",
      "Dubai -- Dubai City - Dubai\n",
      "Dusseldorf -- Düsseldorf - Düsseldorf\n",
      "Eastbourne -- Eastbourne - Eastbourne\n",
      "Estoril -- Estoril - Estoril\n",
      "Geneva -- Geneva - Genève\n",
      "Gstaad -- Gstaad - Gstaad\n",
      "Halle -- Halle - Halle (Saale)\n",
      "Hamburg -- Hamburg - Hamburg\n",
      "Houston -- Houston - Houston\n",
      "Indian Wells -- Wells - Wells County\n",
      "Indianapolis -- Indianapolis - Indianapolis\n",
      "Istanbul -- Istanbul - Istanbul\n",
      "Johannesburg -- Johannesburg - Johannesburg\n",
      "Kitzbuhel -- Kitzbühel - Kitzbühel\n",
      "Kuala Lumpur -- Kuala Lumpur - Kuala Lumpur\n",
      "Las Vegas -- Las Vegas - Las Vegas\n",
      "London -- London - London\n",
      "Los Angeles -- Los Angeles - Los Angeles\n",
      "Los Cabos -- Los Cabos International Airport - Los Cabos International Airport\n",
      "Lyon -- Lyon - Lyon\n",
      "Madrid -- Madrid - Madrid\n",
      "Mallorca -- Palma - Palma\n",
      "Marbella -- Marbella - Marbella\n",
      "Marrakech -- Marrakesh - Marrakesh\n",
      "Marseille -- Marseille - Marseille\n",
      "Melbourne -- Melbourne - Melbourne\n",
      "Memphis -- Memphis - Memphis\n",
      "Metz -- Metz - Metz\n",
      "Miami -- Miami - Miami\n",
      "Monte Carlo -- Monte Carlo - Monte-Carlo\n",
      "Montpellier -- Montpellier - Montpellier\n",
      "Montreal -- Montreal - Montréal\n",
      "Moscow -- Moscow - Moscow\n",
      "Munich -- Munich - Munich\n",
      "New Haven -- New Haven - New Haven\n",
      "New York -- New York - New York City\n",
      "Newport -- Newport News - Newport News\n",
      "Nice -- Nice - Nice\n",
      "Nottingham -- Nottingham - Nottingham\n",
      "Nur-Sultan -- Nur-Sultan - Nur-Sultan\n",
      "Oeiras -- Oeiras - Oeiras\n",
      "Paris -- Paris - Paris\n",
      "Parma -- Parma - Parma\n",
      "Portschach -- Pörtschach am Wörthersee - Pörtschach am Wörthersee\n",
      "Pune -- Pune - Pune\n",
      "Queens Club -- Clearview Park Golf Course - Clearview Park Golf Course\n",
      "Quito -- Quito - Quito\n",
      "Rio de Janeiro -- Rio de Janeiro - Rio de Janeiro\n",
      "Rome -- Rome - Rome\n",
      "Rotterdam -- Rotterdam - Rotterdam\n",
      "San Diego -- San Diego - San Diego\n",
      "San Jose -- San José - San José\n",
      "Santiago -- Santiago - Santiago\n",
      "Sao Paulo -- São Paulo - São Paulo\n",
      "Sardinia -- Sardinia - Sardinia\n",
      "Shanghai -- Shanghai - Shanghai\n",
      "Shenzhen -- Shenzhen - Shenzhen\n",
      "Singapore -- Singapore - Singapore\n",
      "Sofia -- Sofia - Sofia\n",
      "St. Petersburg -- St Petersburg - Saint Petersburg\n",
      "Stockholm -- Stockholm - Stockholm\n",
      "Stuttgart -- Stuttgart - Stuttgart\n",
      "Sydney -- Sydney - Sydney\n",
      "Tokyo -- Tokyo - Tokyo\n",
      "Toronto -- Toronto - Toronto\n",
      "Turin -- Turin - Turin\n",
      "Umag -- Umag - Umag\n",
      "Valencia -- Valencia - Valencia\n",
      "Vienna -- Vienna - Vienna\n",
      "Vina del Mar -- Viña del Mar - Viña del Mar\n",
      "Warsaw -- Warsaw - Warsaw\n",
      "Washington -- Washington - Washington\n",
      "Winston-Salem -- Winston-Salem - Winston-Salem\n",
      "Zagreb -- Zagreb - Zagreb\n",
      "Zhuhai -- Zhuhai - Zhuhai\n"
     ]
    }
   ],
   "source": [
    "for c in cities:\n",
    "    ans = requests.get(\"http://api.geonames.org/search?username=atom&q=\"+c)\n",
    "    gps, name, typoname =  get_results(ans)\n",
    "    cities_to_gps[c] = gps\n",
    "    print(\"%s -- %s - %s\" % (c, name, typoname)) #to check if the quary was succesfull\n"
   ]
  },
  {
   "cell_type": "code",
   "execution_count": 10,
   "metadata": {},
   "outputs": [],
   "source": [
    "cities_locations = pd.DataFrame.from_dict(cities_to_gps, orient='index',\n",
    "\n",
    "                       columns=['lat', 'long'])"
   ]
  },
  {
   "cell_type": "code",
   "execution_count": 11,
   "metadata": {},
   "outputs": [],
   "source": [
    "cities_locations.to_csv('data/cities_locations.csv')\n"
   ]
  },
  {
   "cell_type": "code",
   "execution_count": null,
   "metadata": {},
   "outputs": [],
   "source": [
    "with open('data/cities_locations.json', 'w') as outfile:\n",
    "    outfile.write(json.dumps(cities_to_gps))"
   ]
  }
 ],
 "metadata": {
  "interpreter": {
   "hash": "50c8ddb039f6f0c33e85a1fe59b867fa411b457638d3d4f1beacaa03741717f5"
  },
  "kernelspec": {
   "display_name": "Python 3.8.12 ('mausspaun')",
   "language": "python",
   "name": "python3"
  },
  "language_info": {
   "codemirror_mode": {
    "name": "ipython",
    "version": 3
   },
   "file_extension": ".py",
   "mimetype": "text/x-python",
   "name": "python",
   "nbconvert_exporter": "python",
   "pygments_lexer": "ipython3",
   "version": "3.8.13"
  },
  "orig_nbformat": 4
 },
 "nbformat": 4,
 "nbformat_minor": 2
}
