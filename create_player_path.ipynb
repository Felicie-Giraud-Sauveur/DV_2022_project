{
 "cells": [
  {
   "cell_type": "markdown",
   "metadata": {},
   "source": [
    "## Create the path of the player \n",
    "Preprocessing for the world map visualisation. The goal is to extract the successive location and date of every match played by every players. At the end we want a list for each player, in chronological order of the time and cities of every match they played."
   ]
  },
  {
   "cell_type": "code",
   "execution_count": 32,
   "metadata": {},
   "outputs": [],
   "source": [
    "import pandas as pd\n",
    "import numpy as np\n",
    "import matplotlib.pyplot as plt\n",
    "import json"
   ]
  },
  {
   "cell_type": "code",
   "execution_count": 3,
   "metadata": {},
   "outputs": [],
   "source": [
    "df = pd.read_csv(\"data/tennis_data_cleaned.csv\")"
   ]
  },
  {
   "cell_type": "code",
   "execution_count": 5,
   "metadata": {},
   "outputs": [],
   "source": [
    "player_names = set()"
   ]
  },
  {
   "cell_type": "code",
   "execution_count": 9,
   "metadata": {},
   "outputs": [],
   "source": [
    "for name in df.Winner.unique():\n",
    "    player_names.add(name)\n",
    "\n",
    "for name in df.Loser.unique():\n",
    "    player_names.add(name)\n",
    "player_names = list(player_names)"
   ]
  },
  {
   "cell_type": "code",
   "execution_count": 30,
   "metadata": {},
   "outputs": [],
   "source": [
    "player_path = {}"
   ]
  },
  {
   "cell_type": "code",
   "execution_count": 31,
   "metadata": {},
   "outputs": [],
   "source": [
    "for name in player_names:\n",
    "    player_path[name] = df[(df.Loser == name) | (df.Winner == name)][['Location', 'Date']].values.tolist()"
   ]
  },
  {
   "cell_type": "code",
   "execution_count": 33,
   "metadata": {},
   "outputs": [],
   "source": [
    "with open('data/player_trajectories.json', 'w') as outfile:\n",
    "    outfile.write(json.dumps(player_path))"
   ]
  }
 ],
 "metadata": {
  "interpreter": {
   "hash": "50c8ddb039f6f0c33e85a1fe59b867fa411b457638d3d4f1beacaa03741717f5"
  },
  "kernelspec": {
   "display_name": "Python 3.8.12 ('mausspaun')",
   "language": "python",
   "name": "python3"
  },
  "language_info": {
   "codemirror_mode": {
    "name": "ipython",
    "version": 3
   },
   "file_extension": ".py",
   "mimetype": "text/x-python",
   "name": "python",
   "nbconvert_exporter": "python",
   "pygments_lexer": "ipython3",
   "version": "3.8.13"
  },
  "orig_nbformat": 4
 },
 "nbformat": 4,
 "nbformat_minor": 2
}
