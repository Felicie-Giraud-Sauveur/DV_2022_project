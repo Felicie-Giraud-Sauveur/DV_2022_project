{
 "cells": [
  {
   "cell_type": "markdown",
   "metadata": {},
   "source": [
    "## Create the path of the player \n",
    "Preprocessing for the world map visualisation. The goal is to extract the successive location and date of every match played by every players. At the end we want a list for each player, in chronological order of the time and cities of every match they played."
   ]
  },
  {
   "cell_type": "code",
   "execution_count": 25,
   "metadata": {},
   "outputs": [],
   "source": [
    "import pandas as pd\n",
    "import numpy as np\n",
    "import matplotlib.pyplot as plt\n",
    "import json\n",
    "import time\n",
    "import datetime"
   ]
  },
  {
   "cell_type": "code",
   "execution_count": 26,
   "metadata": {},
   "outputs": [],
   "source": [
    "df = pd.read_csv(\"data/tennis_data_cleaned.csv\")"
   ]
  },
  {
   "cell_type": "code",
   "execution_count": 27,
   "metadata": {},
   "outputs": [
    {
     "data": {
      "text/plain": [
       "Index(['Unnamed: 0', 'ATP', 'Location', 'Tournament', 'Date', 'Series',\n",
       "       'Court', 'Surface', 'Round', 'Best of', 'Winner', 'Loser', 'WRank',\n",
       "       'LRank', 'WPts', 'LPts', 'W1', 'L1', 'W2', 'L2', 'W3', 'L3', 'W4', 'L4',\n",
       "       'W5', 'L5', 'Wsets', 'Lsets', 'Comment', 'B365W', 'B365L', 'pl1_flag',\n",
       "       'pl1_year_pro', 'pl1_weight', 'pl1_height', 'pl1_hand', 'pl2_flag',\n",
       "       'pl2_year_pro', 'pl2_weight', 'pl2_height', 'pl2_hand'],\n",
       "      dtype='object')"
      ]
     },
     "execution_count": 27,
     "metadata": {},
     "output_type": "execute_result"
    }
   ],
   "source": [
    "df.columns"
   ]
  },
  {
   "cell_type": "code",
   "execution_count": 3,
   "metadata": {},
   "outputs": [],
   "source": [
    "player_names = set()"
   ]
  },
  {
   "cell_type": "code",
   "execution_count": 4,
   "metadata": {},
   "outputs": [],
   "source": [
    "for name in df.Winner.unique():\n",
    "    player_names.add(name)\n",
    "\n",
    "for name in df.Loser.unique():\n",
    "    player_names.add(name)\n",
    "player_names = list(player_names)"
   ]
  },
  {
   "cell_type": "code",
   "execution_count": 5,
   "metadata": {},
   "outputs": [],
   "source": [
    "player_path = {}"
   ]
  },
  {
   "cell_type": "code",
   "execution_count": 18,
   "metadata": {},
   "outputs": [
    {
     "data": {
      "text/plain": [
       "1893452400.0"
      ]
     },
     "execution_count": 18,
     "metadata": {},
     "output_type": "execute_result"
    }
   ],
   "source": [
    "s = \"2030-01-01\"\n",
    "time.mktime(datetime.datetime.strptime(s, \"%Y-%m-%d\").timetuple())"
   ]
  },
  {
   "cell_type": "code",
   "execution_count": 39,
   "metadata": {},
   "outputs": [
    {
     "name": "stdout",
     "output_type": "stream",
     "text": [
      "1890\n"
     ]
    }
   ],
   "source": [
    "mn = 1e40\n",
    "mx = 0\n",
    "\n",
    "mx_rank = 0\n",
    "player_path = {}\n",
    "for name in player_names:\n",
    "\n",
    "    path_L = df[df.Loser == name][['Location', 'Date', 'LRank']].values.tolist()\n",
    "    path_W = df[df.Winner == name][['Location', 'Date', 'WRank']].values.tolist()\n",
    "    path = path_L + path_W\n",
    "    path.insert(0, [\"END\", \"2030-01-01\", \"-1\"])\n",
    "    path.append([\"START\", \"2000-01-01\", \"-1\" ])\n",
    "    for i,a in enumerate(path):\n",
    "        t = time.mktime(datetime.datetime.strptime(a[1], \"%Y-%m-%d\").timetuple())\n",
    "        path[i].insert(2,t)\n",
    "        mn = min(t, mn)\n",
    "        mx = max(t, mx)\n",
    "   \n",
    "        mx_rank = max(mx_rank, int(path[i][3]))\n",
    "        \n",
    "    path.sort(key=lambda x: x[2])\n",
    "    \n",
    "    player_path[name] = path.copy()\n",
    "print(mx_rank)"
   ]
  },
  {
   "cell_type": "code",
   "execution_count": 34,
   "metadata": {},
   "outputs": [
    {
     "data": {
      "text/plain": [
       "[['START', '2000-01-01', 946681200.0, '-1'],\n",
       " ['Estoril', '2008-04-14', 1208124000.0, 146.0],\n",
       " ['Estoril', '2008-04-18', 1208469600.0, 146.0],\n",
       " ['Estoril', '2008-04-18', 1208469600.0, 146.0],\n",
       " ['Paris', '2008-05-25', 1211666400.0, 134.0],\n",
       " ['London', '2008-06-24', 1214258400.0, 110.0],\n",
       " ['New York', '2008-08-26', 1219701600.0, 90.0],\n",
       " ['Johannesburg', '2009-02-03', 1233615600.0, 99.0],\n",
       " ['Johannesburg', '2009-02-05', 1233788400.0, 99.0],\n",
       " ['Johannesburg', '2009-02-06', 1233874800.0, 99.0],\n",
       " ['Johannesburg', '2009-02-07', 1233961200.0, 99.0],\n",
       " ['Costa Do Sauipe', '2009-02-10', 1234220400.0, 86.0],\n",
       " ['Costa Do Sauipe', '2009-02-11', 1234306800.0, 86.0],\n",
       " ['Costa Do Sauipe', '2009-02-13', 1234479600.0, 86.0],\n",
       " ['Costa Do Sauipe', '2009-02-13', 1234479600.0, 86.0],\n",
       " ['Miami', '2009-03-26', 1238022000.0, 74.0],\n",
       " ['Miami', '2009-03-28', 1238194800.0, 74.0],\n",
       " ['Miami', '2009-03-30', 1238364000.0, 74.0],\n",
       " ['Casablanca', '2009-04-06', 1238968800.0, 70.0],\n",
       " ['Casablanca', '2009-04-08', 1239141600.0, 70.0],\n",
       " ['Casablanca', '2009-04-10', 1239314400.0, 70.0],\n",
       " ['Barcelona', '2009-04-20', 1240178400.0, 75.0],\n",
       " ['Barcelona', '2009-04-22', 1240351200.0, 75.0],\n",
       " ['Estoril', '2009-05-06', 1241560800.0, 68.0],\n",
       " ['Kitzbuhel', '2009-05-19', 1242684000.0, 67.0],\n",
       " ['Paris', '2009-05-24', 1243116000.0, 66.0],\n",
       " ['Queens Club', '2009-06-08', 1244412000.0, 78.0],\n",
       " ['Queens Club', '2009-06-10', 1244584800.0, 78.0],\n",
       " ['London', '2009-06-23', 1245708000.0, 83.0],\n",
       " ['Bastad', '2009-07-15', 1247608800.0, 90.0],\n",
       " ['Umag', '2009-07-28', 1248732000.0, 93.0],\n",
       " ['Umag', '2009-07-30', 1248904800.0, 93.0],\n",
       " ['Washington', '2009-08-04', 1249336800.0, 88.0],\n",
       " ['New Haven', '2009-08-24', 1251064800.0, 110.0],\n",
       " ['New Haven', '2009-08-25', 1251151200.0, 110.0],\n",
       " ['New Haven', '2009-08-26', 1251237600.0, 110.0],\n",
       " ['New York', '2009-08-31', 1251669600.0, 106.0],\n",
       " ['Bucharest', '2009-09-22', 1253570400.0, 102.0],\n",
       " ['Vienna', '2009-10-26', 1256511600.0, 70.0],\n",
       " ['Vienna', '2009-10-28', 1256684400.0, 70.0],\n",
       " ['Doha', '2010-01-04', 1262559600.0, 69.0],\n",
       " ['Sydney', '2010-01-11', 1263164400.0, 69.0],\n",
       " ['Melbourne', '2010-01-19', 1263855600.0, 68.0],\n",
       " ['Costa Do Sauipe', '2010-02-09', 1265670000.0, 88.0],\n",
       " ['Costa Do Sauipe', '2010-02-10', 1265756400.0, 88.0],\n",
       " ['Buenos Aires', '2010-02-15', 1266188400.0, 109.0],\n",
       " ['Buenos Aires', '2010-02-18', 1266447600.0, 109.0],\n",
       " ['Acapulco', '2010-02-23', 1266879600.0, 107.0],\n",
       " ['Indian Wells', '2010-03-11', 1268262000.0, 104.0],\n",
       " ['Estoril', '2010-05-04', 1272924000.0, 133.0],\n",
       " ['Estoril', '2010-05-06', 1273096800.0, 133.0],\n",
       " ['Estoril', '2010-05-07', 1273183200.0, 133.0],\n",
       " ['Estoril', '2010-05-08', 1273269600.0, 133.0],\n",
       " ['Estoril', '2010-05-09', 1273356000.0, 133.0],\n",
       " ['London', '2010-06-22', 1277157600.0, 89.0],\n",
       " ['Gstaad', '2010-07-26', 1280095200.0, 83.0],\n",
       " ['Gstaad', '2010-07-29', 1280354400.0, 83.0],\n",
       " ['New Haven', '2010-08-23', 1282514400.0, 83.0],\n",
       " ['New York', '2010-09-01', 1283292000.0, 87.0],\n",
       " ['Montpellier', '2010-10-25', 1287957600.0, 100.0],\n",
       " ['Montpellier', '2010-10-27', 1288130400.0, 100.0],\n",
       " ['Chennai', '2011-01-04', 1294095600.0, 101.0],\n",
       " ['Sydney', '2011-01-10', 1294614000.0, 102.0],\n",
       " ['Sydney', '2011-01-12', 1294786800.0, 102.0],\n",
       " ['Melbourne', '2011-01-17', 1295218800.0, 91.0],\n",
       " ['Melbourne', '2011-01-19', 1295391600.0, 91.0],\n",
       " ['Santiago', '2011-01-31', 1296428400.0, 80.0],\n",
       " ['Buenos Aires', '2011-02-14', 1297638000.0, 86.0],\n",
       " ['Acapulco', '2011-02-22', 1298329200.0, 85.0],\n",
       " ['Miami', '2011-03-24', 1300921200.0, 84.0],\n",
       " ['Miami', '2011-03-26', 1301094000.0, 84.0],\n",
       " ['Casablanca', '2011-04-05', 1301954400.0, 83.0],\n",
       " ['Casablanca', '2011-04-07', 1302127200.0, 83.0],\n",
       " ['Monte Carlo', '2011-04-11', 1302472800.0, 82.0],\n",
       " ['Monte Carlo', '2011-04-13', 1302645600.0, 82.0],\n",
       " ['Monte Carlo', '2011-04-14', 1302732000.0, 82.0],\n",
       " ['Monte Carlo', '2011-04-15', 1302818400.0, 82.0],\n",
       " ['Estoril', '2011-04-26', 1303768800.0, 62.0],\n",
       " ['Estoril', '2011-04-28', 1303941600.0, 62.0],\n",
       " ['Paris', '2011-05-23', 1306101600.0, 78.0],\n",
       " ['Eastbourne', '2011-06-14', 1308002400.0, 73.0],\n",
       " ['London', '2011-06-20', 1308520800.0, 91.0],\n",
       " ['Gstaad', '2011-07-26', 1311631200.0, 93.0],\n",
       " ['Gstaad', '2011-07-28', 1311804000.0, 93.0],\n",
       " ['Winston-Salem', '2011-08-22', 1313964000.0, 104.0],\n",
       " ['New York', '2011-08-29', 1314568800.0, 106.0],\n",
       " ['Bucharest', '2011-09-19', 1316383200.0, 100.0],\n",
       " ['Bucharest', '2011-09-22', 1316642400.0, 100.0],\n",
       " ['Chennai', '2012-01-03', 1325545200.0, 102.0],\n",
       " ['Melbourne', '2012-01-17', 1326754800.0, 107.0],\n",
       " ['Melbourne', '2012-01-19', 1326927600.0, 107.0],\n",
       " ['Melbourne', '2012-01-21', 1327100400.0, 107.0],\n",
       " ['Vina del Mar', '2012-01-31', 1327964400.0, 99.0],\n",
       " ['Vina del Mar', '2012-02-01', 1328050800.0, 99.0],\n",
       " ['Vina del Mar', '2012-02-03', 1328223600.0, 99.0],\n",
       " ['Sao Paulo', '2012-02-13', 1329087600.0, 87.0],\n",
       " ['Buenos Aires', '2012-02-21', 1329778800.0, 88.0],\n",
       " ['Indian Wells', '2012-03-09', 1331247600.0, 86.0],\n",
       " ['Indian Wells', '2012-03-10', 1331334000.0, 86.0],\n",
       " ['Miami', '2012-03-21', 1332284400.0, 85.0],\n",
       " ['Miami', '2012-03-23', 1332457200.0, 85.0],\n",
       " ['Monte Carlo', '2012-04-17', 1334613600.0, 132.0],\n",
       " ['Monte Carlo', '2012-04-18', 1334700000.0, 132.0],\n",
       " ['Barcelona', '2012-04-24', 1335218400.0, 117.0],\n",
       " ['Barcelona', '2012-04-25', 1335304800.0, 117.0],\n",
       " ['Barcelona', '2012-04-26', 1335391200.0, 117.0],\n",
       " ['Estoril', '2012-05-01', 1335823200.0, 109.0],\n",
       " ['Queens Club', '2012-06-12', 1339452000.0, 105.0],\n",
       " ['Bastad', '2012-07-10', 1341871200.0, 114.0],\n",
       " ['Bastad', '2012-07-12', 1342044000.0, 114.0],\n",
       " ['END', '2030-01-01', 1893452400.0, '-1']]"
      ]
     },
     "execution_count": 34,
     "metadata": {},
     "output_type": "execute_result"
    }
   ],
   "source": [
    "player_path[name]"
   ]
  },
  {
   "cell_type": "markdown",
   "metadata": {},
   "source": [
    "### Write to a file"
   ]
  },
  {
   "cell_type": "code",
   "execution_count": 35,
   "metadata": {},
   "outputs": [],
   "source": [
    "with open('data/player_trajectories.json', 'w') as outfile:\n",
    "    outfile.write(json.dumps(player_path))"
   ]
  }
 ],
 "metadata": {
  "interpreter": {
   "hash": "50c8ddb039f6f0c33e85a1fe59b867fa411b457638d3d4f1beacaa03741717f5"
  },
  "kernelspec": {
   "display_name": "Python 3.8.12 ('mausspaun')",
   "language": "python",
   "name": "python3"
  },
  "language_info": {
   "codemirror_mode": {
    "name": "ipython",
    "version": 3
   },
   "file_extension": ".py",
   "mimetype": "text/x-python",
   "name": "python",
   "nbconvert_exporter": "python",
   "pygments_lexer": "ipython3",
   "version": "3.8.13"
  },
  "orig_nbformat": 4
 },
 "nbformat": 4,
 "nbformat_minor": 2
}
