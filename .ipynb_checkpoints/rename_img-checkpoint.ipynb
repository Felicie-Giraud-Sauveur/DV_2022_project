{
 "cells": [
  {
   "cell_type": "code",
   "execution_count": 4,
   "id": "dfc9559b-8590-4f59-97f2-49b8c7e45168",
   "metadata": {},
   "outputs": [
    {
     "name": "stdout",
     "output_type": "stream",
     "text": [
      "map_maquette.png\n",
      "network_curseur.png\n",
      "network_edge.png\n",
      "network_joueur.png\n",
      "network_moving.png\n",
      "network_select.png\n",
      "slot.png\n"
     ]
    }
   ],
   "source": [
    "import os\n",
    "for i, filename in enumerate(os.listdir('img/')):\n",
    "    print(filename)\n",
    "    #new_filename = filename.replace('..png', '.png')\n",
    "    #os.rename(filename, new_filename)"
   ]
  },
  {
   "cell_type": "code",
   "execution_count": 3,
   "id": "e1792767-fa74-4836-967f-2f84f00523f1",
   "metadata": {},
   "outputs": [
    {
     "data": {
      "text/plain": [
       "'C:\\\\Users\\\\felic\\\\projets_EPFL\\\\DataVisualization_DV_EPFL\\\\datavis-project-2022-plot-twist'"
      ]
     },
     "execution_count": 3,
     "metadata": {},
     "output_type": "execute_result"
    }
   ],
   "source": [
    "os.getcwd()"
   ]
  },
  {
   "cell_type": "code",
   "execution_count": null,
   "id": "d2913c34-cfec-4325-aeac-0c9978bcdae1",
   "metadata": {},
   "outputs": [],
   "source": []
  }
 ],
 "metadata": {
  "kernelspec": {
   "display_name": "Python [conda env:ada] *",
   "language": "python",
   "name": "conda-env-ada-py"
  },
  "language_info": {
   "codemirror_mode": {
    "name": "ipython",
    "version": 3
   },
   "file_extension": ".py",
   "mimetype": "text/x-python",
   "name": "python",
   "nbconvert_exporter": "python",
   "pygments_lexer": "ipython3",
   "version": "3.8.11"
  }
 },
 "nbformat": 4,
 "nbformat_minor": 5
}
